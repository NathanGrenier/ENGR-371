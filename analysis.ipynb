{
 "cells": [
  {
   "cell_type": "markdown",
   "metadata": {},
   "source": [
    "# Notes and Details\n",
    "\n",
    "`Notes and details of your experiment. Dates that data was collected, information not clear from experimental design (for example weather that day if it was relevant to your experiment.)`\n"
   ]
  },
  {
   "cell_type": "markdown",
   "metadata": {},
   "source": [
    "# Analysis\n",
    "\n",
    "```\n",
    "To begin with calculate the sample mean, the sample variance and the sample median. Describe the\n",
    "distribution of the sample mean. Generate a confidence interval on the sample mean (decide on an\n",
    "appropriate confidence bound). Also set up a hypothesis test for your hypothesis and test its validity.\n",
    "```\n"
   ]
  },
  {
   "cell_type": "code",
   "execution_count": null,
   "metadata": {},
   "outputs": [],
   "source": [
    "# Setup Project Environment\n",
    "import pandas as pd\n",
    "import numpy as np\n",
    "import matplotlib.pyplot as plt\n",
    "import seaborn as sns\n",
    "\n",
    "plt.style.use(\"ggplot\")\n",
    "pd.set_option(\n",
    "  \"display.max_columns\", 200\n",
    ")  # display up to 200 columns (removes '...' hidden columns)"
   ]
  },
  {
   "cell_type": "code",
   "execution_count": null,
   "metadata": {},
   "outputs": [],
   "source": [
    "# Read in Data and Display Shape (rows, columns)\n",
    "df = pd.read_csv(\"survey_data.csv\")\n",
    "df.shape"
   ]
  },
  {
   "cell_type": "code",
   "execution_count": null,
   "metadata": {},
   "outputs": [],
   "source": [
    "# Drop the columns that don't agree with the Confidentiality Agreement\n",
    "if \"Agreement of Confidentiality\" in df.columns:\n",
    "  df = df[\n",
    "    df[\"Agreement of Confidentiality\"]\n",
    "    == \"I agree that the information submitted will be kept confidential, and abide by the terms of confidentiality and anonymity.\"\n",
    "  ].reset_index(drop=True)\n",
    "\n",
    "# Drop the Timestamp, Agreement of Confidentiality and Feedback columns\n",
    "try:\n",
    "  df = df.drop(\n",
    "    columns=[\n",
    "      \"Timestamp\",\n",
    "      \"Agreement of Confidentiality\",\n",
    "      \"Any thoughts you would like to add? (Optional)\",\n",
    "    ],\n",
    "    axis=1,\n",
    "  )\n",
    "except KeyError:\n",
    "  pass\n",
    "\n",
    "# Rename Columns\n",
    "df = df.rename(\n",
    "  columns={\n",
    "    \"How long before you go to sleep do you usually stop using your phone, on a regular basis?\": \"end_of_phone_usage\",\n",
    "    \"What do you do on your phone before going to sleep?\": \"end_of_phone_usage_activity\",\n",
    "    \"Where do you usually put your phone right before you go to sleep?\": \"phone_placement\",\n",
    "    \"How long does it take you to fall asleep?\": \"time_to_fall_asleep\",\n",
    "    \"How often do you wake up during the night?\": \"night_wakeups\",\n",
    "    \"How many hours of sleep do you get per night on average?\": \"hours_of_sleep\",\n",
    "    \"How would you rate your average sleep quality? \\n(ex: waking up feeling refreshed and ready to start the day, or often feel tired and like you didn't sleep well)?\": \"sleep_quality\",\n",
    "    \"Do you have any underlying conditions that may affect the quality of your sleep? (ex: Anxiety, ADHD, etc.)\": \"underlying_conditions\",\n",
    "    \"Please check all of the following that apply to your typical sleep environment:\": \"sleep_environment\",\n",
    "    \"How often do you exercise?\": \"exercise_frequency\",\n",
    "  }\n",
    ")\n",
    "df.head()"
   ]
  },
  {
   "cell_type": "code",
   "execution_count": null,
   "metadata": {},
   "outputs": [],
   "source": [
    "# Convert the 'underlying_conditions' column to a boolean\n",
    "df[\"underlying_conditions\"] = df[\"underlying_conditions\"].apply(\n",
    "  lambda x: False if x == \"No\" else True\n",
    ")\n",
    "\n",
    "# One-hot encode certain columns.\n",
    "df_encoded = pd.get_dummies(\n",
    "  df,\n",
    "  columns=[\n",
    "    \"end_of_phone_usage\",\n",
    "    \"end_of_phone_usage_activity\",\n",
    "    \"phone_placement\",\n",
    "    \"time_to_fall_asleep\",\n",
    "    \"night_wakeups\",\n",
    "    \"exercise_frequency\",\n",
    "  ],\n",
    ")\n",
    "\n",
    "# TODO: Handle sleep_environment later (currently being dropped)\n",
    "df_encoded = df_encoded.drop(columns=[\"sleep_environment\"], axis=1)\n",
    "\n",
    "# replace spaces with underscores and make lowercase\n",
    "df_encoded.columns = df_encoded.columns.str.replace(\" \", \"_\").str.lower()\n",
    "\n",
    "# Rename Columns\n",
    "df_encoded = df_encoded.rename(\n",
    "  columns={\n",
    "    \"end_of_phone_usage_30_minutes_-_1_hour\": \"end_of_phone_usage_between_30_minutes_and_1_hour\",\n",
    "    \"end_of_phone_usage_<_30_minutes\": \"end_of_phone_usage_less_than_30_minutes\",\n",
    "    \"end_of_phone_usage_>_1_hour\": \"end_of_phone_usage_more_than_1_hour\",\n",
    "    \"end_of_phone_usage_activity_browsing_social_media_(ex:_instagram,_tiktok...)\": \"end_of_phone_usage_activity_browsing_social_media\",\n",
    "    \"time_to_fall_asleep_30_minutes_-_1_hour\": \"time_to_fall_asleep_between_30_minutes_and_1_hour\",\n",
    "    \"time_to_fall_asleep_<_30_minutes\": \"time_to_fall_asleep_less_than_30_minutes\",\n",
    "    \"time_to_fall_asleep_>_1_hour\": \"time_to_fall_asleep_more_than_1_hour\",\n",
    "    \"night_wakeups_never_(0_times)\": \"night_wakeups_never_(0)\",\n",
    "    \"night_wakeups_rarely_(1_time)\": \"night_wakeups_rarely_(1)\",\n",
    "    \"night_wakeups_sometimes_(2-3_times)\": \"night_wakeups_sometimes_(2-3)\",\n",
    "    \"exercise_frequency_i_don't_exercise\": \"exercise_frequency_never\",\n",
    "  }\n",
    ")"
   ]
  },
  {
   "cell_type": "code",
   "execution_count": null,
   "metadata": {},
   "outputs": [],
   "source": [
    "# Heatmap of correlations between hours of sleep, sleep quality, and phone usage before bed\n",
    "df_corr = df_encoded[\n",
    "  [\n",
    "    \"hours_of_sleep\",\n",
    "    \"sleep_quality\",\n",
    "    \"end_of_phone_usage_between_30_minutes_and_1_hour\",\n",
    "    \"end_of_phone_usage_less_than_30_minutes\",\n",
    "    \"end_of_phone_usage_more_than_1_hour\",\n",
    "  ]\n",
    "].corr()\n",
    "\n",
    "heatmap = sns.heatmap(df_corr, annot=True, fmt=\".2f\")"
   ]
  },
  {
   "cell_type": "markdown",
   "metadata": {},
   "source": [
    "# Conclusion\n",
    "\n",
    "`A conclusion on whether your hypothesis was reasonable, and justification for your conclusion`\n"
   ]
  },
  {
   "cell_type": "markdown",
   "metadata": {},
   "source": [
    "# Comments\n",
    "\n",
    "## Did your method of sampling result in a random sample?\n",
    "\n",
    "## If your sample was not a random sample, what sorts of measures could you take if you were to do this project again, to get a random sample?\n",
    "\n",
    "## Based on the experiment, would it be appropriate to write a revised hypothesis (“in Hampsteand, 5 cars go through each yellow light.”)\n",
    "\n",
    "## omment on whether you think your results can be extrapolated to draw more general conclusions, perhaps on wider populations. State your opinion and then back it up with well-reasoned arguments.\n"
   ]
  }
 ],
 "metadata": {
  "kernelspec": {
   "display_name": "Python 3",
   "language": "python",
   "name": "python3"
  },
  "language_info": {
   "codemirror_mode": {
    "name": "ipython",
    "version": 3
   },
   "file_extension": ".py",
   "mimetype": "text/x-python",
   "name": "python",
   "nbconvert_exporter": "python",
   "pygments_lexer": "ipython3",
   "version": "3.12.1"
  }
 },
 "nbformat": 4,
 "nbformat_minor": 2
}
