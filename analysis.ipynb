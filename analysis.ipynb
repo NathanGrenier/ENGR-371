{
 "cells": [
  {
   "cell_type": "markdown",
   "metadata": {},
   "source": [
    "# ENGR-371 Project\n"
   ]
  },
  {
   "cell_type": "code",
   "execution_count": 41,
   "metadata": {},
   "outputs": [],
   "source": [
    "import pandas as pd\n",
    "import numpy as np\n",
    "import matplotlib.pyplot as plt\n",
    "import seaborn as sns\n",
    "\n",
    "plt.style.use(\"ggplot\")\n",
    "pd.set_option(\n",
    "  \"display.max_columns\", 200\n",
    ")  # display up to 200 columns (removes '...' hidden columns)"
   ]
  },
  {
   "cell_type": "code",
   "execution_count": 42,
   "metadata": {},
   "outputs": [
    {
     "data": {
      "text/plain": [
       "(55, 13)"
      ]
     },
     "execution_count": 42,
     "metadata": {},
     "output_type": "execute_result"
    }
   ],
   "source": [
    "df = pd.read_csv(\"survey_data.csv\")\n",
    "df.shape"
   ]
  },
  {
   "cell_type": "code",
   "execution_count": 43,
   "metadata": {},
   "outputs": [],
   "source": [
    "# Drop the columns that don't agree with the Confidentiality Agreement\n",
    "if \"Agreement of Confidentiality\" in df.columns:\n",
    "  df = df[\n",
    "    df[\"Agreement of Confidentiality\"]\n",
    "    == \"I agree that the information submitted will be kept confidential, and abide by the terms of confidentiality and anonymity.\"\n",
    "  ].reset_index(drop=True)\n",
    "\n",
    "# Drop the Timestamp, Agreement of Confidentiality and Feedback columns\n",
    "try:\n",
    "  df = df.drop(\n",
    "    columns=[\n",
    "      \"Timestamp\",\n",
    "      \"Agreement of Confidentiality\",\n",
    "      \"Any thoughts you would like to add? (Optional)\",\n",
    "    ],\n",
    "    axis=1,\n",
    "  )\n",
    "except KeyError:\n",
    "  pass\n",
    "\n",
    "# Rename Columns\n",
    "df = df.rename(\n",
    "  columns={\n",
    "    \"How long before you go to sleep do you usually stop using your phone, on a regular basis?\": \"end_of_phone_usage\",\n",
    "    \"What do you do on your phone before going to sleep?\": \"end_of_phone_usage_activity\",\n",
    "    \"Where do you usually put your phone right before you go to sleep?\": \"phone_placement\",\n",
    "    \"How long does it take you to fall asleep?\": \"time_to_fall_asleep\",\n",
    "    \"How often do you wake up during the night?\": \"night_wakeups\",\n",
    "    \"How many hours of sleep do you get per night on average?\": \"hours_of_sleep\",\n",
    "    \"How would you rate your average sleep quality? \\n(ex: waking up feeling refreshed and ready to start the day, or often feel tired and like you didn't sleep well)?\": \"sleep_quality\",\n",
    "    \"Do you have any underlying conditions that may affect the quality of your sleep? (ex: Anxiety, ADHD, etc.)\": \"underlying_conditions\",\n",
    "    \"Please check all of the following that apply to your typical sleep environment:\": \"sleep_environment\",\n",
    "    \"How often do you exercise?\": \"exercise_frequency\",\n",
    "  }\n",
    ")"
   ]
  }
 ],
 "metadata": {
  "kernelspec": {
   "display_name": "Python 3",
   "language": "python",
   "name": "python3"
  },
  "language_info": {
   "codemirror_mode": {
    "name": "ipython",
    "version": 3
   },
   "file_extension": ".py",
   "mimetype": "text/x-python",
   "name": "python",
   "nbconvert_exporter": "python",
   "pygments_lexer": "ipython3",
   "version": "3.12.1"
  }
 },
 "nbformat": 4,
 "nbformat_minor": 2
}
